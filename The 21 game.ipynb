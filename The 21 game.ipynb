{
 "cells": [
  {
   "cell_type": "code",
   "execution_count": 1,
   "id": "eb8e9468",
   "metadata": {},
   "outputs": [],
   "source": [
    "from random import randint"
   ]
  },
  {
   "cell_type": "code",
   "execution_count": 2,
   "id": "b598dc45",
   "metadata": {},
   "outputs": [],
   "source": [
    "def select_count(game_count):\n",
    "    #selects a random number if the game_count is less than 18\n",
    "    #otherwise chooses the winning number\n",
    "    if game_count<18:\n",
    "        t = randint(1,3)\n",
    "    else:\n",
    "        t = 21-game_count\n",
    "    print(\"The Computer chooses {}\".format(t))\n",
    "    return t"
   ]
  },
  {
   "cell_type": "code",
   "execution_count": 3,
   "id": "16a89525",
   "metadata": {},
   "outputs": [],
   "source": [
    "def request_count():\n",
    "    #Request user input between 1,2 and 3\n",
    "    # It will Continue till either quit(q) or one of those numbers is requested\n",
    "    t = \"\"\n",
    "    while True:\n",
    "        try:\n",
    "            t = input(\"Your choice from 1 to 3:\")\n",
    "            if int(t) in [1,2,3]:\n",
    "                return int(t)\n",
    "            else:\n",
    "                print(\"Out of range, Try again!!\")\n",
    "        except:\n",
    "            if t==\"q\":\n",
    "                return None\n",
    "            else:\n",
    "                print(\"Invalid Entry, try again!!\")"
   ]
  },
  {
   "cell_type": "code",
   "execution_count": 4,
   "id": "28836dae",
   "metadata": {},
   "outputs": [],
   "source": [
    "def start():\n",
    "    game_count=0\n",
    "    print(\"Enter q to quit at any time.\\nThe computer will choose first.\\nRunning total is now {}\".format(game_count))\n",
    "    roundno = 1\n",
    "    while game_count<21:\n",
    "        print(\"\\nROUND {} : \\n\".format(roundno))\n",
    "        t = select_count(game_count)\n",
    "        game_count += t\n",
    "        print(\"Running total is now {}\\n\".format(game_count))\n",
    "        if game_count>21:\n",
    "            print(\"OOPS!!!COMPUTER HAS WON...\")\n",
    "            return 0\n",
    "        t = request_count()\n",
    "        if not t:\n",
    "            print(\"OK...Quitting the game!!\")\n",
    "            return -1\n",
    "        game_count += t\n",
    "        print(\"Running total is now {}\\n\".format(game_count))\n",
    "        if game_count>21:\n",
    "            print(\"CONGRATULATIONS!! YOU HAVE WON!!\")\n",
    "            return 1\n",
    "        roundno+=1"
   ]
  },
  {
   "cell_type": "code",
   "execution_count": null,
   "id": "6d74aeb9",
   "metadata": {},
   "outputs": [
    {
     "name": "stdout",
     "output_type": "stream",
     "text": [
      "Enter q to quit at any time.\n",
      "The computer will choose first.\n",
      "Running total is now 0\n",
      "\n",
      "ROUND 1 : \n",
      "\n",
      "The Computer chooses 1\n",
      "Running total is now 1\n",
      "\n",
      "Your choice from 1 to 3:3\n",
      "Running total is now 4\n",
      "\n",
      "\n",
      "ROUND 2 : \n",
      "\n",
      "The Computer chooses 1\n",
      "Running total is now 5\n",
      "\n",
      "Your choice from 1 to 3:3\n",
      "Running total is now 8\n",
      "\n",
      "\n",
      "ROUND 3 : \n",
      "\n",
      "The Computer chooses 2\n",
      "Running total is now 10\n",
      "\n",
      "Your choice from 1 to 3:2\n",
      "Running total is now 12\n",
      "\n",
      "\n",
      "ROUND 4 : \n",
      "\n",
      "The Computer chooses 2\n",
      "Running total is now 14\n",
      "\n",
      "Your choice from 1 to 3:2\n",
      "Running total is now 16\n",
      "\n",
      "\n",
      "ROUND 5 : \n",
      "\n",
      "The Computer chooses 3\n",
      "Running total is now 19\n",
      "\n",
      "Your choice from 1 to 3:1\n",
      "Running total is now 20\n",
      "\n",
      "\n",
      "ROUND 6 : \n",
      "\n",
      "The Computer chooses 1\n",
      "Running total is now 21\n",
      "\n",
      "Your choice from 1 to 3:1\n",
      "Running total is now 22\n",
      "\n",
      "CONGRATULATIONS!! YOU HAVE WON!!\n",
      "Computer won 0 games, and You won 1 games\n"
     ]
    }
   ],
   "source": [
    "c = 0\n",
    "m = 0\n",
    "r = True\n",
    "while r:\n",
    "    o = start()\n",
    "    if o == -1:\n",
    "        break\n",
    "    else:\n",
    "        c+=1 if o==0 else 0\n",
    "        m+=1 if o==1 else 0\n",
    "    print(\"Computer won {0} games, and You won {1} games\".format(c,m))\n",
    "    t = input(\"Want to play another game? press y to continue\")\n",
    "    r = (t==\"y\")"
   ]
  },
  {
   "cell_type": "code",
   "execution_count": null,
   "id": "bfa5b9f9",
   "metadata": {},
   "outputs": [],
   "source": []
  }
 ],
 "metadata": {
  "kernelspec": {
   "display_name": "Python 3 (ipykernel)",
   "language": "python",
   "name": "python3"
  },
  "language_info": {
   "codemirror_mode": {
    "name": "ipython",
    "version": 3
   },
   "file_extension": ".py",
   "mimetype": "text/x-python",
   "name": "python",
   "nbconvert_exporter": "python",
   "pygments_lexer": "ipython3",
   "version": "3.8.5"
  }
 },
 "nbformat": 4,
 "nbformat_minor": 5
}
